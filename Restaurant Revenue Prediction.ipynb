{
 "cells": [
  {
   "cell_type": "code",
   "execution_count": null,
   "id": "d076ef45",
   "metadata": {},
   "outputs": [],
   "source": [
    "##### Import the libraries:-\n",
    "import pandas as pd\n",
    "import numpy as np\n",
    "import matplotlib.pyplot as plt"
   ]
  },
  {
   "cell_type": "code",
   "execution_count": null,
   "id": "b5eafe0c",
   "metadata": {},
   "outputs": [],
   "source": [
    "##### Load the dataset:-\n",
    "df=pd.read_csv(\"revenue_prediction.csv\")"
   ]
  },
  {
   "cell_type": "code",
   "execution_count": null,
   "id": "5d970438",
   "metadata": {},
   "outputs": [],
   "source": [
    "df.head()"
   ]
  },
  {
   "cell_type": "code",
   "execution_count": null,
   "id": "d8e5b7f9",
   "metadata": {},
   "outputs": [],
   "source": [
    "##### Examining missing values in a dataset:-\n",
    "df.isnull().sum()"
   ]
  },
  {
   "cell_type": "code",
   "execution_count": null,
   "id": "85eb1356",
   "metadata": {},
   "outputs": [],
   "source": [
    "##### Drop irrelevant columns:-\n",
    "df=df.drop(columns=[\"Id\",\"Name\",\"Franchise\",\"Category\",\"City\",\"No_Of_Item\"])"
   ]
  },
  {
   "cell_type": "code",
   "execution_count": null,
   "id": "a926e9d4",
   "metadata": {},
   "outputs": [],
   "source": [
    "df.head()"
   ]
  },
  {
   "cell_type": "code",
   "execution_count": null,
   "id": "292d716a",
   "metadata": {},
   "outputs": [],
   "source": [
    "df.shape"
   ]
  },
  {
   "cell_type": "code",
   "execution_count": null,
   "id": "d1c12ce8",
   "metadata": {},
   "outputs": [],
   "source": [
    "##### Create independent feature and dependent variable:-\n",
    "x=df.iloc[:,:-1].values\n",
    "y=df.iloc[:,-1].values  "
   ]
  },
  {
   "cell_type": "code",
   "execution_count": null,
   "id": "3a35da5b",
   "metadata": {},
   "outputs": [],
   "source": [
    "from sklearn.model_selection import train_test_split\n",
    "x_train,x_test,y_train,y_test=train_test_split(x,y,test_size=0.2,random_state=42)"
   ]
  },
  {
   "cell_type": "code",
   "execution_count": null,
   "id": "e2f0a752",
   "metadata": {},
   "outputs": [],
   "source": [
    "print(x_train)"
   ]
  },
  {
   "cell_type": "code",
   "execution_count": null,
   "id": "fd844c3d",
   "metadata": {},
   "outputs": [],
   "source": [
    "print(x_test)"
   ]
  },
  {
   "cell_type": "code",
   "execution_count": null,
   "id": "54e1dfa1",
   "metadata": {},
   "outputs": [],
   "source": [
    "print(y_train)"
   ]
  },
  {
   "cell_type": "code",
   "execution_count": null,
   "id": "d891513c",
   "metadata": {},
   "outputs": [],
   "source": [
    "print(y_test)"
   ]
  },
  {
   "cell_type": "code",
   "execution_count": null,
   "id": "65fd5fa3",
   "metadata": {},
   "outputs": [],
   "source": [
    "##### Training the Simple Linear Regression model on the Training set:-\n",
    "from sklearn.linear_model import LinearRegression\n",
    "regressor=LinearRegression()\n",
    "regressor.fit(x_train,y_train)"
   ]
  },
  {
   "cell_type": "code",
   "execution_count": null,
   "id": "77c3fea2",
   "metadata": {},
   "outputs": [],
   "source": [
    "##### Predicting the Test set results:-\n",
    "y_pred=regressor.predict(x_test)"
   ]
  },
  {
   "cell_type": "code",
   "execution_count": null,
   "id": "41408100",
   "metadata": {},
   "outputs": [],
   "source": [
    "y_pred"
   ]
  },
  {
   "cell_type": "code",
   "execution_count": null,
   "id": "3075294d",
   "metadata": {},
   "outputs": [],
   "source": [
    "##### Visualising the Training set results:-\n",
    "plt.scatter(x_train,y_train,color=\"blue\")\n",
    "plt.plot(x_train,regressor.predict(x_train),color=\"green\")\n",
    "plt.title(\"Revenue vs orders\")\n",
    "plt.xlabel(\"orders\")\n",
    "plt.ylabel(\"Revenue\")"
   ]
  },
  {
   "cell_type": "code",
   "execution_count": null,
   "id": "4d49c565",
   "metadata": {},
   "outputs": [],
   "source": [
    "##### Visualising the Test set results:-\n",
    "plt.scatter(x_test,y_test,color=\"blue\")\n",
    "plt.plot(x_train,regressor.predict(x_train),color=\"green\")\n",
    "plt.title(\"Revenue vs orders\")\n",
    "plt.xlabel(\"orders\")\n",
    "plt.ylabel(\"Revenue\")"
   ]
  },
  {
   "cell_type": "code",
   "execution_count": null,
   "id": "d6ac2034",
   "metadata": {},
   "outputs": [],
   "source": [
    "##### Accuracy of the Model:-\n",
    "from sklearn.metrics import r2_score"
   ]
  },
  {
   "cell_type": "code",
   "execution_count": null,
   "id": "87f04f4b",
   "metadata": {},
   "outputs": [],
   "source": [
    "score=r2_score(y_pred,y_test)"
   ]
  },
  {
   "cell_type": "code",
   "execution_count": null,
   "id": "25c4b762",
   "metadata": {},
   "outputs": [],
   "source": [
    "score"
   ]
  }
 ],
 "metadata": {
  "kernelspec": {
   "display_name": "Python 3 (ipykernel)",
   "language": "python",
   "name": "python3"
  },
  "language_info": {
   "codemirror_mode": {
    "name": "ipython",
    "version": 3
   },
   "file_extension": ".py",
   "mimetype": "text/x-python",
   "name": "python",
   "nbconvert_exporter": "python",
   "pygments_lexer": "ipython3",
   "version": "3.10.9"
  }
 },
 "nbformat": 4,
 "nbformat_minor": 5
}
